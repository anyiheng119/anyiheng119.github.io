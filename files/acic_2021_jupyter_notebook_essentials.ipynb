{
  "nbformat": 4,
  "nbformat_minor": 0,
  "metadata": {
    "colab": {
      "name": "acic_2021_jupyter_notebook_essentials.ipynb",
      "provenance": [],
      "collapsed_sections": []
    },
    "kernelspec": {
      "name": "python3",
      "display_name": "Python 3"
    },
    "language_info": {
      "name": "python"
    }
  },
  "cells": [
    {
      "cell_type": "markdown",
      "metadata": {
        "id": "m5bzuAoDGR5t"
      },
      "source": [
        "\n",
        "#**Jupyter Notebook Essentials: Analyzing migrant deaths** \n",
        "\n",
        "In this workshop, we will learn how to:\n",
        "*   Navigate Jupyter notebooks\n",
        "*   Open, filter, and plot data\n",
        "*   Work with Markdown\n",
        "*   Convert notebooks to Python scripts\n",
        "\n",
        "We will access data from the **International Organization for Migration (IOM)** Missing Migrants Project, who tracks deaths of migrants who have gone missing along mixed migration routes worldwide.\n",
        "\n",
        "*For those interested in learning more, below are some links:*\n",
        "\n",
        "*   [IOM Missing Migrants](https://missingmigrants.iom.int/about)\n",
        "*   [Missing in Brooks County Documentary](https://www.missinginbrookscounty.com/)\n",
        "    * Funded in part by [The University of Arizona Office for Research, Innovation & Impact](https://research.arizona.edu/)\n",
        "*   [The Line Becomes a River: Dispatches from the Border](http://ezproxy.library.arizona.edu/login?url=https://search.ebscohost.com/login.aspx?direct=true&db=nlebk&AN=1536371&site=ehost-live&ebv=EK&ppid=Page-__-1)\n",
        "\n"
      ]
    },
    {
      "cell_type": "code",
      "metadata": {
        "id": "iQuc3F00CfDM"
      },
      "source": [
        "!pip3 install geocoder\n",
        "\n",
        "import sys \n",
        "import os\n",
        "import pandas as pd\n",
        "import numpy as np\n",
        "import glob \n",
        "import subprocess as sp\n",
        "from IPython.display import HTML\n",
        "from datetime import datetime\n",
        "import plotly.express as px\n",
        "import matplotlib.pyplot as plt\n",
        "from geopy.geocoders import Nominatim\n",
        "import geocoder\n",
        "import seaborn as sns"
      ],
      "execution_count": null,
      "outputs": []
    },
    {
      "cell_type": "code",
      "metadata": {
        "id": "gImarNtPRxSZ"
      },
      "source": [
        "def get_data():\n",
        "\n",
        "    now = datetime.now()\n",
        "    link = f'https://missingmigrants.iom.int/global-figures/all/xls/\\\n",
        "    MissingMigrants-Global-{now.date()}T{str(now.hour).zfill(2)}-\\\n",
        "    {str(now.minute).zfill(2)}-{str(now.second).zfill(2)}.xls'\n",
        "    file_path = os.path.join('migrant_deaths_data.xls')\n",
        "\n",
        "    if not os.path.isfile(file_path):\n",
        "\n",
        "        sp.call(f'wget {link} -O {file_path}', shell=True)\n",
        "    print(f'Data has been downloaded. See {file_path}')\n",
        "\n",
        "    return file_path\n",
        "\n",
        "\n",
        "#-------------------------------------------------------------------------------\n",
        "def clean_df(df):\n",
        "\n",
        "    df = df.drop(['Web ID', 'Reported Month',\\\n",
        "                  'Minimum Estimated Number of Missing'], axis=1)\\\n",
        "        .rename(columns={'Number Dead': 'num_dead', 'Total Dead and Missing':\\\n",
        "                         'total_dead_missing','Number of Survivors':\\\n",
        "                         'num_survivors', 'Number of Females': 'num_females', \n",
        "                         'Number of Males': 'num_males', 'Number of Children':\\\n",
        "                         'num_children', 'Cause of Death': 'cause_death',\\\n",
        "                         'Location Description': 'location_description',\\\n",
        "                         'Information Source': 'information_source',\\\n",
        "                         'Location Coordinates': 'location_coordinates', \n",
        "                         'Migration Route': 'migration_route',\n",
        "                         'UNSD Geographical Grouping': 'geographical_grouping',\n",
        "                         'Source Quality': 'source_quality', \n",
        "                         'Region': 'region', 'Reported Date': 'reported_date',\n",
        "                         'Reported Year': 'reported_year'})\n",
        "\n",
        "    df['reported_date'] = pd.to_datetime(df['reported_date'])\n",
        "    df = df.convert_dtypes()\n",
        "    return df\n",
        "\n",
        "\n",
        "#-------------------------------------------------------------------------------\n",
        "def sum_df_dates(df):\n",
        "\n",
        "    sum_df = df.groupby(by=['reported_date', 'region', 'migration_route',\\\n",
        "                            'location_coordinates', 'geographical_grouping',\\\n",
        "                            'information_source', 'reported_year']).sum()\n",
        "    return sum_df\n",
        "\n",
        "\n",
        "#-------------------------------------------------------------------------------\n",
        "def open_df(file_path):\n",
        "\n",
        "    with open(file_path, 'r') as f:\n",
        "        dfs = pd.read_html(f.read())\n",
        "\n",
        "    df = dfs[0]\n",
        "    return df\n",
        "\n",
        "\n",
        "#-------------------------------------------------------------------------------\n",
        "def filter_df(df, region=None, quality=None):\n",
        "\n",
        "    if region:\n",
        "        filtered_df = df[df['region']==region]\n",
        "    if quality:\n",
        "        filtered_df = filtered_df[filtered_df['source_quality']==quality]\n",
        "\n",
        "    return filtered_df\n",
        "\n",
        "\n",
        "#-------------------------------------------------------------------------------\n",
        "def prepare_geocoords(df): \n",
        "    \n",
        "    geo_df = df.reset_index()\n",
        "    geo_df['lat'] = geo_df['location_coordinates'].str.split(', ', expand=True)[0]\n",
        "    geo_df['lon'] = geo_df['location_coordinates'].str.split(', ', expand=True)[1]\n",
        "    geo_df['num_dead'] = geo_df['num_dead'].astype(float) \n",
        "    geo_df['lat'] = geo_df['lat'].astype(float)\n",
        "    geo_df['lon'] = geo_df['lon'].astype(float)\n",
        "\n",
        "    return geo_df\n",
        "\n",
        "\n",
        "#-------------------------------------------------------------------------------\n",
        "def set_mapbox(api_key):\n",
        "\n",
        "    px.set_mapbox_access_token(token=api_key)\n",
        "\n",
        "\n",
        "#-------------------------------------------------------------------------------\n",
        "def add_geographical_details(df):\n",
        "\n",
        "    geolocator = Nominatim(user_agent=\"geoapiExercises\")\n",
        "    df['city']=df['county']=df['state']=df['country']=df['zip_code'] = None\n",
        "\n",
        "    for i, row in df.iterrows(): \n",
        "\n",
        "        location = geolocator.reverse(str(row['lat'])+\",\"\\\n",
        "                                    +str(row['lon']))\n",
        "        \n",
        "        address = location.raw['address']\n",
        "        city = address.get('city', np.nan)\n",
        "        county = address.get('county', np.nan)\n",
        "        state = address.get('state', np.nan)\n",
        "        country = address.get('country', np.nan)\n",
        "        code = address.get('country_code', np.nan)\n",
        "        zipcode = address.get('postcode', np.nan)\n",
        "\n",
        "        df.at[i, 'city'] = city \n",
        "        df.at[i, 'county'] = county\n",
        "        df.at[i, 'state'] = state\n",
        "        df.at[i, 'country'] = country\n",
        "        df.at[i, 'zip_code'] = zipcode\n",
        "        \n",
        "    return df"
      ],
      "execution_count": null,
      "outputs": []
    },
    {
      "cell_type": "markdown",
      "metadata": {
        "id": "jTEessnaIS9R"
      },
      "source": [
        "# Understanding the data/problem"
      ]
    },
    {
      "cell_type": "code",
      "metadata": {
        "id": "MZ6aEZH0Cf9H"
      },
      "source": [
        "HTML('<iframe \\\n",
        "        width=\"1280\" \\\n",
        "        height=\"720\" \\\n",
        "        src=\"https://www.youtube.com/embed/pxwVSCgBOy0\" \\\n",
        "        title=\"YouTube video player\" \\\n",
        "        frameborder=\"0\" \\\n",
        "        allow=\"accelerometer; autoplay; clipboard-write; encrypted-media; gyroscope; picture-in-picture\" \\\n",
        "        allowfullscreen></iframe>')"
      ],
      "execution_count": null,
      "outputs": []
    },
    {
      "cell_type": "markdown",
      "metadata": {
        "id": "ol8lMJAed9io"
      },
      "source": [
        "# **Open, filter, and plot data**\n",
        "## Access migration death data"
      ]
    },
    {
      "cell_type": "code",
      "metadata": {
        "id": "-UmvU_v5L5H-"
      },
      "source": [
        "file_path = get_data()\n",
        "df = open_df(file_path)\n",
        "df = clean_df(df)\n",
        "sum_df = sum_df_dates(df)"
      ],
      "execution_count": null,
      "outputs": []
    },
    {
      "cell_type": "markdown",
      "metadata": {
        "id": "1qV_1-1RX4Zs"
      },
      "source": [
        "## Plot international deaths"
      ]
    },
    {
      "cell_type": "code",
      "metadata": {
        "id": "L74vUuvvVq8o"
      },
      "source": [
        "fig = px.line(sum_df.reset_index(), \n",
        "              x=\"reported_date\", \n",
        "              y=\"num_dead\", \n",
        "              color='region', \n",
        "              line_group='region',\n",
        "              labels={\n",
        "                     \"num_dead\": \"Number of Deaths\",\n",
        "                     \"reported_date\": \"Reported Date\"\n",
        "                 },\n",
        "              title='International migrant deaths').for_each_trace(lambda t: t.update(name=t.name.split(\"=\")[1]))\n",
        "\n",
        "fig.show()"
      ],
      "execution_count": null,
      "outputs": []
    },
    {
      "cell_type": "markdown",
      "metadata": {
        "id": "OZykN8FeX8Nx"
      },
      "source": [
        "## Filter data to include only US-Mexico deaths"
      ]
    },
    {
      "cell_type": "code",
      "metadata": {
        "id": "2qZ8w2uJWWv5"
      },
      "source": [
        "filtered_df = filter_df(df, region='US-Mexico Border', quality=5)\n",
        "sum_df = sum_df_dates(filtered_df)"
      ],
      "execution_count": null,
      "outputs": []
    },
    {
      "cell_type": "code",
      "metadata": {
        "id": "KhjkFK_IsX4m"
      },
      "source": [
        "sum_df.reset_index()['region'].unique()"
      ],
      "execution_count": null,
      "outputs": []
    },
    {
      "cell_type": "code",
      "metadata": {
        "id": "Ax3C-RMQW39p"
      },
      "source": [
        "import plotly.express as px\n",
        "fig = px.line(sum_df.reset_index(), \n",
        "              x=\"reported_date\", \n",
        "              y=\"num_dead\", \n",
        "              color='region',\n",
        "              labels={\n",
        "                     \"num_dead\": \"Number of Deaths\",\n",
        "                     \"reported_date\": \"Reported Date\"\n",
        "                 },\n",
        "              title='US-Mexico migrant deaths').for_each_trace(lambda t: t.update(name=t.name.split(\"=\")[1]))\n",
        "fig.show()"
      ],
      "execution_count": null,
      "outputs": []
    },
    {
      "cell_type": "markdown",
      "metadata": {
        "id": "bPBXM7-9cA48"
      },
      "source": [
        "## What could have led to the spike in September 2014?"
      ]
    },
    {
      "cell_type": "code",
      "metadata": {
        "id": "uQt_EdPHXXIU"
      },
      "source": [
        "%%html\n",
        "<iframe src=\"https://www.onthisday.com/date/2014/september\" style=\"background-color: Snow;\" width=\"1200\" height=\"1000\"></iframe>"
      ],
      "execution_count": null,
      "outputs": []
    },
    {
      "cell_type": "markdown",
      "metadata": {
        "id": "NxYCW2KEcvll"
      },
      "source": [
        "## December 2015?"
      ]
    },
    {
      "cell_type": "code",
      "metadata": {
        "id": "NWT4MZ7dc4tX"
      },
      "source": [
        "%%html\n",
        "<iframe src=\"https://www.onthisday.com/date/2015/december\" style=\"background-color: Snow;\" width=\"1200\" height=\"1000\"></iframe>"
      ],
      "execution_count": null,
      "outputs": []
    },
    {
      "cell_type": "markdown",
      "metadata": {
        "id": "iBUQjul3cQ5Q"
      },
      "source": [
        "## December 2019?"
      ]
    },
    {
      "cell_type": "code",
      "metadata": {
        "id": "3fuFszwLa0Xp"
      },
      "source": [
        "%%html\n",
        "<iframe src=\"https://www.onthisday.com/date/2019/december\" style=\"background-color: Snow;\" width=\"1200\" height=\"1000\"></iframe>"
      ],
      "execution_count": null,
      "outputs": []
    },
    {
      "cell_type": "markdown",
      "metadata": {
        "id": "5-rlGe3tc8fv"
      },
      "source": [
        "## **GIS**\n",
        "### Based on the data and historical records, politics and epi/pan-demics seem to drive increases in migration. Now let's map deaths on a web map to find hot spots. \n",
        "Questions we can answer: \n",
        "*   What state has the most migrant deaths?\n",
        "*   Are deaths more frequent/numerous at the border wall or within the US? \n",
        "*   Are deaths more frequent/numerous in incorporated or unincorporated areas?"
      ]
    },
    {
      "cell_type": "code",
      "metadata": {
        "id": "gABnIE4RwO9g"
      },
      "source": [
        "geo_df = prepare_geocoords(sum_df)"
      ],
      "execution_count": null,
      "outputs": []
    },
    {
      "cell_type": "code",
      "metadata": {
        "id": "SrESBwD69yVG"
      },
      "source": [
        "set_mapbox(api_key='pk.eyJ1IjoiZW1tYW51ZWxnb256YWxleiIsImEiOiJja3RndzZ2NmIwbTJsMnBydGN1NWJ4bzkxIn0.rtptqiaoqpDIoXsw6Qa9lg')"
      ],
      "execution_count": null,
      "outputs": []
    },
    {
      "cell_type": "code",
      "metadata": {
        "id": "oWKBY8GTyVxi"
      },
      "source": [
        "fig = px.scatter_mapbox(geo_df, \n",
        "                        lat=\"lat\", \n",
        "                        lon=\"lon\", \n",
        "                        color=\"information_source\", \n",
        "                        size='num_dead', \n",
        "                        zoom=4, \n",
        "                        opacity=1,\n",
        "\n",
        "                        mapbox_style='satellite-streets').for_each_trace(lambda t: t.update(name=t.name.split(\"=\")[1]))\n",
        "\n",
        "fig.update_layout(\n",
        "        title = 'US-Mexico migrant deaths (2014-2021)',\n",
        "        geo_scope='usa',\n",
        "        autosize=True\n",
        ")\n",
        "\n",
        "fig.show()"
      ],
      "execution_count": null,
      "outputs": []
    },
    {
      "cell_type": "markdown",
      "metadata": {
        "id": "-AqHABpYwr59"
      },
      "source": [
        "## The code below will take about 8 minutes to run. Feel free to ask questions while we wait!"
      ]
    },
    {
      "cell_type": "code",
      "metadata": {
        "id": "7VmWN4nDVt6P"
      },
      "source": [
        "geo_df = add_geographical_details(geo_df)"
      ],
      "execution_count": null,
      "outputs": []
    },
    {
      "cell_type": "code",
      "metadata": {
        "id": "6O_resslthYM"
      },
      "source": [
        "px.bar(geo_df[geo_df['country']=='United States'].groupby(by=['state', 'county']).sum().reset_index(),\n",
        "       x='state',\n",
        "       y='num_dead',\n",
        "       color='county',\n",
        "       title='Number of deaths per State',\n",
        "       labels={\n",
        "            \"num_dead\": \"Number of Deaths\",\n",
        "            \"state\": \"State\"}).for_each_trace(lambda t: t.update(name=t.name.split(\"=\")[1]))"
      ],
      "execution_count": null,
      "outputs": []
    },
    {
      "cell_type": "code",
      "metadata": {
        "id": "QRsfPPzWbLjE"
      },
      "source": [
        "geo_df['year'] = geo_df['reported_date'].dt.year\n",
        "\n",
        "px.line(geo_df[geo_df['state']=='Arizona'].groupby(by=['county', 'state', 'year']).sum().reset_index(),\n",
        "        x='year',\n",
        "        y='num_dead', \n",
        "        color='county',\n",
        "        line_group='state',\n",
        "        title='Number of deaths in Arizona by Year, County',\n",
        "        labels={\n",
        "            \"num_dead\": \"Number of Deaths\",\n",
        "            \"year\": \"Year\"}).for_each_trace(lambda t: t.update(name=t.name.split(\"=\")[1]))\n"
      ],
      "execution_count": null,
      "outputs": []
    },
    {
      "cell_type": "code",
      "metadata": {
        "id": "qPcPYwpHx0r9"
      },
      "source": [
        "sns.set_style(\"whitegrid\")\n",
        "sns.set_context(\"notebook\")\n",
        "sns.set(rc={'figure.figsize':(9.7,6.27)})\n",
        "\n",
        "sns.lineplot(x='year',\n",
        "             y='num_males', \n",
        "             data=geo_df[geo_df['state']=='Arizona'].groupby(by=['state', 'year']).sum().reset_index())\n",
        "\n",
        "sns.lineplot(x='year',\n",
        "             y='num_females', \n",
        "             data=geo_df[geo_df['state']=='Arizona'].groupby(by=['state', 'year']).sum().reset_index())\n",
        "\n",
        "plt.legend(['Male', 'Female'])\n",
        "plt.xlabel('Year')\n",
        "plt.ylabel('Number of deaths')\n",
        "plt.title('Number of deaths by biological sex')\n",
        "plt.tight_layout();"
      ],
      "execution_count": null,
      "outputs": []
    },
    {
      "cell_type": "code",
      "metadata": {
        "id": "WQmv7lDH0Orn"
      },
      "source": [
        ""
      ],
      "execution_count": null,
      "outputs": []
    }
  ]
}